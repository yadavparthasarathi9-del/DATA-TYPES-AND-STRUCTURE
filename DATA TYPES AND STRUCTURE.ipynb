{
  "nbformat": 4,
  "nbformat_minor": 0,
  "metadata": {
    "colab": {
      "provenance": []
    },
    "kernelspec": {
      "name": "python3",
      "display_name": "Python 3"
    },
    "language_info": {
      "name": "python"
    }
  },
  "cells": [
    {
      "cell_type": "code",
      "execution_count": null,
      "metadata": {
        "id": "ObfzK1fJ85SL"
      },
      "outputs": [],
      "source": [
        "#DATA TYPES AND STRUCTURE QUESTION"
      ]
    },
    {
      "cell_type": "markdown",
      "source": [],
      "metadata": {
        "id": "bcoHegV4-Y4G"
      }
    },
    {
      "cell_type": "markdown",
      "source": [
        "1\n",
        "DATA STRUCTURE ARE THE WAY OF STORING AND ORGANISING DATA IN DIFFERENT FORMS TO UTILIZE IN PROEFFICIENT WAY .\n",
        "\n",
        "2\n",
        "MUTABLE DATA TYPES MEANS WHICH CAN BE CAHNGED. EXAMPLE-LISI\n",
        "IMMUTABLE DATATYPES MEANS WHICH CANNOT BE CHANGED. EXAMPLE - TUPLE\n",
        "\n",
        "3\n",
        "THE MAIN DIFFERENCE BETWEEN LIST AND TUPLE ID LIST IS LIST IS MUTABLE AND TUPLE IS IMMUTABLE.\n",
        "\n",
        "4\n",
        "DICTIONARY IN PYTHON STORES DATA IN KEY:VALUE FORMAT ,IN WHICH KEY IS BASICALLY THE WORD AND THE VALUE IS IS THE MEANING OF THE KEY.\n",
        "\n",
        "5\n",
        "SET HAS MORE MEMORY AS COMPARED TO LIST AND THEY ARE NOT ORDERED IN THE SAME THE WAY THAN THE LIST ARE.\n",
        "\n",
        "6\n",
        "A STRING IS BASICALLY THE SEQUENCE OF CAHRACTERS AND THE LIST IS A SEQUENCE OF VALUE WHICH CAN BE CHARACTER INTEGER ETC.\n",
        "\n",
        "7\n",
        "TUPLES ENSURES DATA INTEGRITY IN PYTHON MAINLY THROUGH ITS IMMUTABILITY.\n",
        "\n",
        "8\n",
        "  A hash table is a data structure that maps keys to values using a hash function.\n",
        "  In Python, dictionaries are implemented as hash tables, enabling fast lookups, insertions AND DELETON.\n",
        "\n",
        "9\n",
        "YES,LIST CAN CONTAIN DIFFERENT TYPES DATA TYPES , IT OFFERS MORE FLEXIBILITY IN PYTHON.\n",
        "\n",
        "10\n",
        "STRINGS ARE IMMUTABLE IN PYTHON BECAUSETHEY CANNOT BE CHANGED AFTER CREATED.\n",
        "\n",
        "11\n",
        "  FASTER LOOKUP\n",
        "  - STORE DATA IN KEY-VALUE PAIRS FOR BETTER MAPPING.\n",
        "  - PREVENT DUPLICATE KEYS AUTOMATICALLY.\n",
        "\n",
        "12\n",
        "WHEN YOU NEED READ ONLY DATA SHOULD NOT CHANGE .    \n",
        "\n",
        "13\n",
        "SETS AUTOMATICALLY REMOVE DUPLICATES.\n",
        "  \n",
        " S = {1, 2, 2, 3}\n",
        "  PRINT(S)\n",
        "\n",
        "  OUTPUT\n",
        " {1, 2, 3 }\n",
        "\n",
        "14\n",
        "LIST: CHECKS IF AN ELEMENT EXISTS.\n",
        "\n",
        " 3 IN [1,2,3] # TRUE\n",
        "\n",
        " DICTIONARY CHECKS IF AN ELEMENT EXIST\n",
        " D = {1: 'A', 2: 'B'}\n",
        " 1 IN D # TRUE\n",
        " 'A' IN D # FALSE\n",
        "\n",
        "15\n",
        "NO, BECAUSE TUPLES ARE IMMUTABLE. ONCE CREATED, THEIR ELEMENTS\n",
        " CANNOT BE CHANGED.\n",
        "\n",
        "16\n",
        "A NESTED DICTIONARY IS A DICTIONARY INSIDE ANOTHER DICTIONARY.\n",
        " EXAMPLE (STUDENT RECORDS):\n",
        "\n",
        " STUDENTS = {\n",
        " 'ALICE': {'AGE': 20, 'GRADE': 'A'},\n",
        " 'BOB': {'AGE': 22, 'GRADE': 'B'}\n",
        " }\n",
        "\n",
        "17\n",
        "AVERAGE CASE 0(1) DUE TO HASHING.\n",
        "WORST CASE: O(N)\n",
        "\n",
        "18\n",
        "WHEN ORDER MATTERS (LISTS MAINTAIN INSERTION ORDER)\n",
        " WHEN INDEXING BY POSITION IS NEEDED.\n",
        "\n",
        "19\n",
        "A dictionary is termed an unordered collection of objects because dictionaries do not maintain any inherent order of the items based on when they were added. In older versions of Python (before 3.7), dictionaries did not preserve insertion order at all. This meant that when you accessed or printed the items, the order could vary, as dictionaries were optimized for fast lookups rather than maintaining order\n",
        "\n",
        "20\n",
        " LIST : RETRIEVAL BY INDEX 0(1)ACCESS.DICTIONARY: RETRIEVAL BY KEY (HASH LOOKUP). O(1) AVERAGE CASE\n",
        "\n",
        "\n",
        "\n",
        "\n",
        "\n",
        "\n",
        "\n",
        "\n"
      ],
      "metadata": {
        "id": "LSA86Jdd_FX1"
      }
    },
    {
      "cell_type": "code",
      "source": [
        "#PRACTICAL QUESTION"
      ],
      "metadata": {
        "id": "oh06apqsKJYk"
      },
      "execution_count": null,
      "outputs": []
    },
    {
      "cell_type": "code",
      "source": [
        "#1\n",
        "my_name = \"partha sarathi yadav\"\n",
        "print(my_name)\n"
      ],
      "metadata": {
        "colab": {
          "base_uri": "https://localhost:8080/"
        },
        "id": "YhCmaQ8oK1B9",
        "outputId": "d813c1c9-fbc2-4137-cbd8-aff8f8caba15"
      },
      "execution_count": null,
      "outputs": [
        {
          "output_type": "stream",
          "name": "stdout",
          "text": [
            "partha sarathi yadav\n"
          ]
        }
      ]
    },
    {
      "cell_type": "code",
      "source": [
        "#2\n",
        "x=\"hello world\"\n",
        "print(len(x))"
      ],
      "metadata": {
        "colab": {
          "base_uri": "https://localhost:8080/"
        },
        "id": "RGhQAc_PhrT9",
        "outputId": "54693adf-6713-4bae-bad4-ae7d0e769162"
      },
      "execution_count": null,
      "outputs": [
        {
          "output_type": "stream",
          "name": "stdout",
          "text": [
            "11\n"
          ]
        }
      ]
    },
    {
      "cell_type": "code",
      "source": [
        "#3\n",
        "string=\"python programming\"\n",
        "print(string[:4])"
      ],
      "metadata": {
        "colab": {
          "base_uri": "https://localhost:8080/"
        },
        "id": "AtezpmOEiAQx",
        "outputId": "e7a59923-fec0-4ce5-d75a-051a8d6ec5f1"
      },
      "execution_count": null,
      "outputs": [
        {
          "output_type": "stream",
          "name": "stdout",
          "text": [
            "pyth\n"
          ]
        }
      ]
    },
    {
      "cell_type": "code",
      "source": [
        "#4\n",
        "string=\"hello\"\n",
        "uppercase_string=string.upper()\n",
        "print(uppercase_string)"
      ],
      "metadata": {
        "colab": {
          "base_uri": "https://localhost:8080/"
        },
        "id": "pmp1yl7QkXem",
        "outputId": "ac9bfb13-ec7f-4088-b714-e13bc1df9925"
      },
      "execution_count": null,
      "outputs": [
        {
          "output_type": "stream",
          "name": "stdout",
          "text": [
            "HELLO\n"
          ]
        }
      ]
    },
    {
      "cell_type": "code",
      "source": [
        "#5\n",
        "string=\"i like apple\"\n",
        "print(string.replace(\"apple\",\"orange\"))"
      ],
      "metadata": {
        "colab": {
          "base_uri": "https://localhost:8080/"
        },
        "id": "6eXPnwTDk2Y_",
        "outputId": "f41b7531-7143-4b61-8968-2953569d953a"
      },
      "execution_count": null,
      "outputs": [
        {
          "output_type": "stream",
          "name": "stdout",
          "text": [
            "i like orange\n"
          ]
        }
      ]
    },
    {
      "cell_type": "code",
      "source": [
        "#6\n",
        "list=[1,2,3,4,5]\n",
        "print(list)"
      ],
      "metadata": {
        "colab": {
          "base_uri": "https://localhost:8080/"
        },
        "id": "DhDwb2SLmdCA",
        "outputId": "78769ea3-d42d-4254-d463-bff734a3c477"
      },
      "execution_count": null,
      "outputs": [
        {
          "output_type": "stream",
          "name": "stdout",
          "text": [
            "[1, 2, 3, 4, 5]\n"
          ]
        }
      ]
    },
    {
      "cell_type": "code",
      "source": [
        "#7\n",
        "list=[1,2,3,4]\n",
        "list.append(10)\n",
        "print(list)"
      ],
      "metadata": {
        "colab": {
          "base_uri": "https://localhost:8080/"
        },
        "id": "Tp3bWxupndlE",
        "outputId": "d86970ac-09e0-46c1-95a0-6e38857bc7ef"
      },
      "execution_count": null,
      "outputs": [
        {
          "output_type": "stream",
          "name": "stdout",
          "text": [
            "[1, 2, 3, 4, 10]\n"
          ]
        }
      ]
    },
    {
      "cell_type": "code",
      "source": [
        "#8\n",
        "list=[1,2,3,4,5]\n",
        "list.remove(3)\n",
        "print(list)"
      ],
      "metadata": {
        "colab": {
          "base_uri": "https://localhost:8080/"
        },
        "id": "mWckvCpjod2q",
        "outputId": "e7fd8dbf-d6d9-4479-a026-7fdb822b7ac1"
      },
      "execution_count": null,
      "outputs": [
        {
          "output_type": "stream",
          "name": "stdout",
          "text": [
            "[1, 2, 4, 5]\n"
          ]
        }
      ]
    },
    {
      "cell_type": "code",
      "source": [
        "#9\n",
        "list=['a','b','c','d']\n",
        "print(list[1])"
      ],
      "metadata": {
        "colab": {
          "base_uri": "https://localhost:8080/"
        },
        "id": "WvJ66UVkpKQk",
        "outputId": "62b93673-5e44-4eae-f331-2e1b000c9c8e"
      },
      "execution_count": null,
      "outputs": [
        {
          "output_type": "stream",
          "name": "stdout",
          "text": [
            "b\n"
          ]
        }
      ]
    },
    {
      "cell_type": "code",
      "source": [
        "#10\n",
        "list=[10,20,30,40,50]\n",
        "print(list[::-1])\n"
      ],
      "metadata": {
        "colab": {
          "base_uri": "https://localhost:8080/"
        },
        "id": "55yb6lMkqOaN",
        "outputId": "a8ff76dd-cd42-4f7e-c29e-700f2387dd56"
      },
      "execution_count": null,
      "outputs": [
        {
          "output_type": "stream",
          "name": "stdout",
          "text": [
            "[10, 20, 30, 40]\n"
          ]
        }
      ]
    },
    {
      "cell_type": "code",
      "source": [
        "#11\n",
        "tuple=(100,200,300)\n",
        "print(tuple)"
      ],
      "metadata": {
        "colab": {
          "base_uri": "https://localhost:8080/"
        },
        "id": "bCx_NfCirDSw",
        "outputId": "7e55bc77-ef89-47d2-df4b-364de781c346"
      },
      "execution_count": null,
      "outputs": [
        {
          "output_type": "stream",
          "name": "stdout",
          "text": [
            "(100, 200, 300)\n"
          ]
        }
      ]
    },
    {
      "cell_type": "code",
      "source": [
        "#12\n",
        "tuple=('red','green','blue','yellow')\n",
        "print(tuple[-2])"
      ],
      "metadata": {
        "colab": {
          "base_uri": "https://localhost:8080/"
        },
        "id": "haI61SpyrWg5",
        "outputId": "260b7918-9680-49c7-8b3c-0825daf164e9"
      },
      "execution_count": null,
      "outputs": [
        {
          "output_type": "stream",
          "name": "stdout",
          "text": [
            "blue\n"
          ]
        }
      ]
    },
    {
      "cell_type": "code",
      "source": [
        "#13\n",
        "tuple=(10,20,5,15)\n",
        "print(min(tuple))\n"
      ],
      "metadata": {
        "id": "vN-wxKdds8Bu",
        "colab": {
          "base_uri": "https://localhost:8080/"
        },
        "outputId": "a9eb84d8-83fa-4c5a-aa18-28aef24d2a08"
      },
      "execution_count": 44,
      "outputs": [
        {
          "output_type": "stream",
          "name": "stdout",
          "text": [
            "5\n"
          ]
        }
      ]
    },
    {
      "cell_type": "code",
      "source": [
        "#14\n",
        "tuple=('dog','cat','rabbit')\n",
        "print(tuple.index(\"cat\"))\n"
      ],
      "metadata": {
        "colab": {
          "base_uri": "https://localhost:8080/"
        },
        "id": "SwZCdmMmxc4s",
        "outputId": "0a9f68f4-314a-44bc-8419-fce8a690c234"
      },
      "execution_count": 47,
      "outputs": [
        {
          "output_type": "stream",
          "name": "stdout",
          "text": [
            "1\n"
          ]
        }
      ]
    },
    {
      "cell_type": "code",
      "source": [
        "#15\n",
        "tuple=(\"apple\",\"orange\",\"kiwi\")\n",
        "print(\"kiwi\"in tuple)\n"
      ],
      "metadata": {
        "colab": {
          "base_uri": "https://localhost:8080/"
        },
        "id": "U9N-4JgOzal0",
        "outputId": "53347ed1-f2b1-40ff-ad82-b5474bc0d3d5"
      },
      "execution_count": 53,
      "outputs": [
        {
          "output_type": "stream",
          "name": "stdout",
          "text": [
            "True\n"
          ]
        }
      ]
    },
    {
      "cell_type": "code",
      "source": [
        "#16\n",
        "set=('a','b','c')\n",
        "print(set)\n"
      ],
      "metadata": {
        "colab": {
          "base_uri": "https://localhost:8080/"
        },
        "id": "7FBf0i622Qdz",
        "outputId": "1fa7f11d-1538-4937-e235-e9a98f7903f9"
      },
      "execution_count": 54,
      "outputs": [
        {
          "output_type": "stream",
          "name": "stdout",
          "text": [
            "('a', 'b', 'c')\n"
          ]
        }
      ]
    },
    {
      "cell_type": "code",
      "source": [
        "#17\n",
        "set={1,2,3,4,5}\n",
        "set.clear()\n",
        "print(set)"
      ],
      "metadata": {
        "colab": {
          "base_uri": "https://localhost:8080/"
        },
        "id": "3OwN3QM15iIz",
        "outputId": "3ef107ea-f9ee-4ab0-f9fd-d7bed72c8bc7"
      },
      "execution_count": 57,
      "outputs": [
        {
          "output_type": "stream",
          "name": "stdout",
          "text": [
            "set()\n"
          ]
        }
      ]
    },
    {
      "cell_type": "code",
      "source": [
        "#18\n",
        "set={1,2,3,4}\n",
        "set.remove(4)\n",
        "print(set)"
      ],
      "metadata": {
        "colab": {
          "base_uri": "https://localhost:8080/"
        },
        "id": "iGiHtilO6ios",
        "outputId": "4d56c3a2-7f28-4f37-fd4a-b496dae79a1d"
      },
      "execution_count": 60,
      "outputs": [
        {
          "output_type": "stream",
          "name": "stdout",
          "text": [
            "{1, 2, 3}\n"
          ]
        }
      ]
    },
    {
      "cell_type": "code",
      "source": [
        "#19\n",
        "set_1={1,2,3}\n",
        "set_2={3,4,5}\n",
        "set_3=set_1.union(set_2)\n",
        "print(set_3)\n"
      ],
      "metadata": {
        "colab": {
          "base_uri": "https://localhost:8080/"
        },
        "id": "0Nw6zotf6PSK",
        "outputId": "ef490fa0-4250-4556-8f79-a175a949b7d6"
      },
      "execution_count": 61,
      "outputs": [
        {
          "output_type": "stream",
          "name": "stdout",
          "text": [
            "{1, 2, 3, 4, 5}\n"
          ]
        }
      ]
    },
    {
      "cell_type": "code",
      "source": [
        "#20\n",
        "set1={1,2,3}\n",
        "set2={2,3,4}\n",
        "set3=set1.intersection(set2)\n",
        "print(set3)\n"
      ],
      "metadata": {
        "colab": {
          "base_uri": "https://localhost:8080/"
        },
        "id": "DRzqTPE48B_3",
        "outputId": "d7a5bc76-d15a-4c1f-ff90-0ba45d9e8a6c"
      },
      "execution_count": 68,
      "outputs": [
        {
          "output_type": "stream",
          "name": "stdout",
          "text": [
            "{2, 3}\n"
          ]
        }
      ]
    },
    {
      "cell_type": "code",
      "source": [
        "#21\n",
        "\n",
        "person_info = {\n",
        "    \"name\":\"rahul\",\n",
        "    \"age\": 30,\n",
        "    \"city\":\"New York\"\n",
        "}\n",
        "\n",
        "\n",
        "print(person_info)"
      ],
      "metadata": {
        "colab": {
          "base_uri": "https://localhost:8080/"
        },
        "id": "SGUIBETU9g-P",
        "outputId": "157a5386-39ca-46e3-da57-02f0ec271e93"
      },
      "execution_count": 99,
      "outputs": [
        {
          "output_type": "stream",
          "name": "stdout",
          "text": [
            "{'name': 'rahul', 'age': 30, 'city': 'New York'}\n"
          ]
        }
      ]
    },
    {
      "cell_type": "code",
      "source": [
        "#22\n",
        "my_dict = {'name': 'John', 'age': 25}\n",
        "my_dict['country'] = 'USA'\n",
        "\n",
        "print(my_dict)"
      ],
      "metadata": {
        "colab": {
          "base_uri": "https://localhost:8080/"
        },
        "id": "ln4dgzPdDpNz",
        "outputId": "694e5e4d-22d4-47f5-b7f7-e7abdffea787"
      },
      "execution_count": 101,
      "outputs": [
        {
          "output_type": "stream",
          "name": "stdout",
          "text": [
            "{'name': 'John', 'age': 25, 'country': 'USA'}\n"
          ]
        }
      ]
    },
    {
      "cell_type": "code",
      "source": [
        "#23\n",
        "my_dict = {'name': 'Alice', 'age': 30}\n",
        "print(name_value)"
      ],
      "metadata": {
        "colab": {
          "base_uri": "https://localhost:8080/"
        },
        "id": "4TLabDelEPpW",
        "outputId": "900b2d5d-d18c-4206-fd68-3a5acdf14b2a"
      },
      "execution_count": 104,
      "outputs": [
        {
          "output_type": "stream",
          "name": "stdout",
          "text": [
            "Alice\n"
          ]
        }
      ]
    },
    {
      "cell_type": "code",
      "source": [
        "#24\n",
        "my_dict = {'name': 'Bob', 'age': 22, 'city': 'New York'}\n",
        "my_dict.pop('age')\n",
        "print(my_dict)"
      ],
      "metadata": {
        "colab": {
          "base_uri": "https://localhost:8080/"
        },
        "id": "VMSFVqntEp0y",
        "outputId": "ef2e4baf-3503-4a65-9021-c4678c3b0919"
      },
      "execution_count": 105,
      "outputs": [
        {
          "output_type": "stream",
          "name": "stdout",
          "text": [
            "{'name': 'Bob', 'city': 'New York'}\n"
          ]
        }
      ]
    },
    {
      "cell_type": "code",
      "source": [
        "#25\n",
        "my_dict = {'name': 'Alice', 'city': 'Paris'}\n",
        "\n",
        "if 'city' in my_dict:\n",
        "    print(\"The key 'city' exists in the dictionary.\")\n",
        "else:\n",
        "    print(\"The key 'city' does not exist in the dictionary.\")\n"
      ],
      "metadata": {
        "colab": {
          "base_uri": "https://localhost:8080/"
        },
        "id": "Cdm23dxmFQ0P",
        "outputId": "d39a6c91-659e-42ae-dfd5-fda52ff4b988"
      },
      "execution_count": 106,
      "outputs": [
        {
          "output_type": "stream",
          "name": "stdout",
          "text": [
            "The key 'city' exists in the dictionary.\n"
          ]
        }
      ]
    },
    {
      "cell_type": "code",
      "source": [
        "#26\n",
        "my_list = [10, 20, 30, \"apple\", \"banana\"]\n",
        "my_tuple = (1, 2, \"hello\", 4.5)\n",
        "my_dictionary = {\n",
        "    \"name\": \"Alice\",\n",
        "    \"age\": 30,\n",
        "    \"city\": \"New York\"\n",
        "}\n",
        "\n",
        "print(\"My list\", my_list)\n",
        "\n",
        "print(\"My Tuple:\", my_tuple)\n",
        "\n",
        "print(\"My Dictionary:\", my_dictionary)\n"
      ],
      "metadata": {
        "colab": {
          "base_uri": "https://localhost:8080/"
        },
        "id": "ahjxLhmyFlmN",
        "outputId": "06102795-24a0-452c-da36-7a66093accc7"
      },
      "execution_count": 109,
      "outputs": [
        {
          "output_type": "stream",
          "name": "stdout",
          "text": [
            "My list [10, 20, 30, 'apple', 'banana']\n",
            "My Tuple: (1, 2, 'hello', 4.5)\n",
            "My Dictionary: {'name': 'Alice', 'age': 30, 'city': 'New York'}\n"
          ]
        }
      ]
    },
    {
      "cell_type": "code",
      "source": [
        "#27\n",
        "import random\n",
        "random_numbers = []\n",
        "\n",
        "for _ in range(5):\n",
        "    random_numbers.append(random.randint(1, 100))\n",
        "\n",
        "random_numbers.sort()\n",
        "\n",
        "print(random_numbers)\n"
      ],
      "metadata": {
        "colab": {
          "base_uri": "https://localhost:8080/"
        },
        "id": "3BGp2bTZGZ2j",
        "outputId": "63785aba-7745-4bf7-f736-c72955ebe304"
      },
      "execution_count": 110,
      "outputs": [
        {
          "output_type": "stream",
          "name": "stdout",
          "text": [
            "[7, 26, 51, 73, 93]\n"
          ]
        }
      ]
    },
    {
      "cell_type": "code",
      "source": [
        "#28\n",
        "my_list = [\"apple\", \"banana\", \"cherry\", \"date\", \"elderberry\"]\n",
        "\n",
        "print(my_list[3])\n"
      ],
      "metadata": {
        "colab": {
          "base_uri": "https://localhost:8080/"
        },
        "id": "_QzNUv1eG0su",
        "outputId": "a83d77f1-1016-490d-8073-cd6e0e69ebf9"
      },
      "execution_count": 111,
      "outputs": [
        {
          "output_type": "stream",
          "name": "stdout",
          "text": [
            "date\n"
          ]
        }
      ]
    },
    {
      "cell_type": "code",
      "source": [
        "#29\n",
        "dict1 = {'a': 1, 'b': 2}\n",
        "dict2 = {'c': 3, 'd': 4}\n",
        "\n",
        "merged_dict = dict1 | dict2\n",
        "print(merged_dict)\n"
      ],
      "metadata": {
        "colab": {
          "base_uri": "https://localhost:8080/"
        },
        "id": "Aj6RtcdCHS6v",
        "outputId": "dbe32458-5b9a-4f28-824c-095da1769358"
      },
      "execution_count": 114,
      "outputs": [
        {
          "output_type": "stream",
          "name": "stdout",
          "text": [
            "{'a': 1, 'b': 2, 'c': 3, 'd': 4}\n"
          ]
        }
      ]
    },
    {
      "cell_type": "code",
      "source": [
        "#30\n",
        "my_list = [1, 2, 3, , 4, 5,]\n",
        "my_set = set(my_list)\n",
        "print(my_set)"
      ],
      "metadata": {
        "colab": {
          "base_uri": "https://localhost:8080/",
          "height": 106
        },
        "id": "ucKwUWb5J0CY",
        "outputId": "5dd3468d-a0ce-41e0-a84e-0e2e9ac17893"
      },
      "execution_count": 123,
      "outputs": [
        {
          "output_type": "error",
          "ename": "SyntaxError",
          "evalue": "invalid syntax (ipython-input-640164707.py, line 2)",
          "traceback": [
            "\u001b[0;36m  File \u001b[0;32m\"/tmp/ipython-input-640164707.py\"\u001b[0;36m, line \u001b[0;32m2\u001b[0m\n\u001b[0;31m    my_list = [1, 2, 3, , 4, 5,]\u001b[0m\n\u001b[0m                        ^\u001b[0m\n\u001b[0;31mSyntaxError\u001b[0m\u001b[0;31m:\u001b[0m invalid syntax\n"
          ]
        }
      ]
    }
  ]
}